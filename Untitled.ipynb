{
 "cells": [
  {
   "cell_type": "code",
   "execution_count": 11,
   "metadata": {},
   "outputs": [],
   "source": [
    "import numpy as np\n",
    "import Hess\n",
    "import scipy.sparse as si\n",
    "import scipy.sparse.linalg as la"
   ]
  },
  {
   "cell_type": "code",
   "execution_count": 12,
   "metadata": {},
   "outputs": [
    {
     "name": "stdout",
     "output_type": "stream",
     "text": [
      "  (1, 1)\t1.0\n",
      "  (2, 1)\t2.0\n",
      "  (3, 1)\t3.0\n",
      "  (4, 1)\t4.0\n",
      "  (5, 1)\t5.0\n",
      "  (6, 1)\t6.0\n",
      "  (7, 1)\t7.0\n",
      "  (8, 1)\t8.0\n",
      "  (9, 1)\t9.0\n",
      "  (1, 2)\t2.0\n",
      "  (2, 2)\t4.0\n",
      "  (3, 2)\t6.0\n",
      "  (4, 2)\t8.0\n",
      "  (5, 2)\t10.0\n",
      "  (6, 2)\t12.0\n",
      "  (7, 2)\t14.0\n",
      "  (8, 2)\t16.0\n",
      "  (9, 2)\t18.0\n",
      "  (1, 3)\t3.0\n",
      "  (2, 3)\t6.0\n",
      "  (3, 3)\t9.0\n",
      "  (4, 3)\t12.0\n",
      "  (5, 3)\t15.0\n",
      "  (6, 3)\t18.0\n",
      "  (7, 3)\t21.0\n",
      "  :\t:\n",
      "  (3, 7)\t21.0\n",
      "  (4, 7)\t28.0\n",
      "  (5, 7)\t35.0\n",
      "  (6, 7)\t42.0\n",
      "  (7, 7)\t49.0\n",
      "  (8, 7)\t56.0\n",
      "  (9, 7)\t63.0\n",
      "  (1, 8)\t8.0\n",
      "  (2, 8)\t16.0\n",
      "  (3, 8)\t24.0\n",
      "  (4, 8)\t32.0\n",
      "  (5, 8)\t40.0\n",
      "  (6, 8)\t48.0\n",
      "  (7, 8)\t56.0\n",
      "  (8, 8)\t64.0\n",
      "  (9, 8)\t72.0\n",
      "  (1, 9)\t9.0\n",
      "  (2, 9)\t18.0\n",
      "  (3, 9)\t27.0\n",
      "  (4, 9)\t36.0\n",
      "  (5, 9)\t45.0\n",
      "  (6, 9)\t54.0\n",
      "  (7, 9)\t63.0\n",
      "  (8, 9)\t72.0\n",
      "  (9, 9)\t81.0\n",
      "(array([0.        , 0.00055402, 0.00110803, 0.00166205, 0.00221607,\n",
      "       0.00277008, 0.0033241 , 0.00387812, 0.00443213, 0.00498615]), 2, 1, 1.7013926184468011, 1.7013926184468011, 285.0, 0.9999999999999999, 1.1393045671283197e-14, 0.009352877017248825, array([0., 0., 0., 0., 0., 0., 0., 0., 0., 0.]))\n"
     ]
    }
   ],
   "source": [
    "a = np.zeros((10,10),dtype='float64')\n",
    "for i in range(10):\n",
    "    for j in range(10):\n",
    "        a[i,j] = i*j\n",
    "sparse_matrix = si.csc_matrix(a)\n",
    "print(sparse_matrix)\n",
    "b=np.ones(10)\n",
    "x = la.lsqr(a,b)\n",
    "print(x)\n"
   ]
  },
  {
   "cell_type": "code",
   "execution_count": 13,
   "metadata": {},
   "outputs": [
    {
     "name": "stdout",
     "output_type": "stream",
     "text": [
      "(10, 10)\n",
      "7\n",
      "<class 'numpy.float64'> (10, 10)\n",
      "[0.         0.01754386 0.00877193 0.00584795 0.00438596 0.00350877\n",
      " 0.00292398 0.00250627 0.00219298 0.00194932]\n"
     ]
    }
   ],
   "source": [
    "h = Hess.hessone(1)\n",
    "print(a.shape)\n",
    "b = h.add(3,4)\n",
    "print(b)\n",
    "print(type(a[0,0]),a.shape)\n",
    "x = h.myfunc(a)\n",
    "print(x) "
   ]
  },
  {
   "cell_type": "code",
   "execution_count": 3,
   "metadata": {},
   "outputs": [
    {
     "ename": "TypeError",
     "evalue": "add(): incompatible function arguments. The following argument types are supported:\n    1. (self: Hess.hessone, arg0: int, arg1: int) -> None\n\nInvoked with: 3, 4",
     "output_type": "error",
     "traceback": [
      "\u001b[0;31m---------------------------------------------------------------------------\u001b[0m",
      "\u001b[0;31mTypeError\u001b[0m                                 Traceback (most recent call last)",
      "\u001b[0;32m<ipython-input-3-90b7ac67c090>\u001b[0m in \u001b[0;36m<module>\u001b[0;34m\u001b[0m\n\u001b[1;32m      1\u001b[0m \u001b[0mh\u001b[0m \u001b[0;34m=\u001b[0m \u001b[0mHess\u001b[0m\u001b[0;34m.\u001b[0m\u001b[0mhessone\u001b[0m\u001b[0;34m\u001b[0m\u001b[0;34m\u001b[0m\u001b[0m\n\u001b[0;32m----> 2\u001b[0;31m \u001b[0mh\u001b[0m\u001b[0;34m.\u001b[0m\u001b[0madd\u001b[0m\u001b[0;34m(\u001b[0m\u001b[0;36m3\u001b[0m\u001b[0;34m,\u001b[0m\u001b[0;36m4\u001b[0m\u001b[0;34m)\u001b[0m\u001b[0;34m\u001b[0m\u001b[0;34m\u001b[0m\u001b[0m\n\u001b[0m",
      "\u001b[0;31mTypeError\u001b[0m: add(): incompatible function arguments. The following argument types are supported:\n    1. (self: Hess.hessone, arg0: int, arg1: int) -> None\n\nInvoked with: 3, 4"
     ]
    }
   ],
   "source": [
    "h = Hess.hessone\n",
    "h.add(3,4)"
   ]
  },
  {
   "cell_type": "code",
   "execution_count": 10,
   "metadata": {},
   "outputs": [
    {
     "name": "stdout",
     "output_type": "stream",
     "text": [
      "None\n"
     ]
    }
   ],
   "source": [
    "print(h.add(3,4))"
   ]
  },
  {
   "cell_type": "code",
   "execution_count": 7,
   "metadata": {},
   "outputs": [
    {
     "name": "stdout",
     "output_type": "stream",
     "text": [
      "None\n"
     ]
    }
   ],
   "source": [
    "print(h.myfunc(a))"
   ]
  },
  {
   "cell_type": "code",
   "execution_count": 8,
   "metadata": {},
   "outputs": [
    {
     "name": "stdout",
     "output_type": "stream",
     "text": [
      "[[0.  +0.j 0.  +0.j 0.  +0.j 0.  +0.j 0.  +0.j 0.  +0.j 0.  +0.j 0.  +0.j\n",
      "  0.  +0.j 0.  +0.j]\n",
      " [0.  +0.j 0.  +2.j 0.  +4.j 0.  +6.j 0.  +8.j 0. +10.j 0. +12.j 0. +14.j\n",
      "  0. +16.j 0. +18.j]\n",
      " [0.  +0.j 0.  +4.j 0.  +8.j 0. +12.j 0. +16.j 0. +20.j 0. +24.j 0. +28.j\n",
      "  0. +32.j 0. +36.j]\n",
      " [0.  +0.j 0.  +6.j 0. +12.j 0. +18.j 0. +24.j 0. +30.j 0. +36.j 0. +42.j\n",
      "  0. +48.j 0. +54.j]\n",
      " [0.  +0.j 0.  +8.j 0. +16.j 0. +24.j 0. +32.j 0. +40.j 0. +48.j 0. +56.j\n",
      "  0. +64.j 0. +72.j]\n",
      " [0.  +0.j 0. +10.j 0. +20.j 0. +30.j 0. +40.j 0. +50.j 0. +60.j 0. +70.j\n",
      "  0. +80.j 0. +90.j]\n",
      " [0.  +0.j 0. +12.j 0. +24.j 0. +36.j 0. +48.j 0. +60.j 0. +72.j 0. +84.j\n",
      "  0. +96.j 0.+108.j]\n",
      " [0.  +0.j 0. +14.j 0. +28.j 0. +42.j 0. +56.j 0. +70.j 0. +84.j 0. +98.j\n",
      "  0.+112.j 0.+126.j]\n",
      " [0.  +0.j 0. +16.j 0. +32.j 0. +48.j 0. +64.j 0. +80.j 0. +96.j 0.+112.j\n",
      "  0.+128.j 0.+144.j]\n",
      " [0.  +0.j 0. +18.j 0. +36.j 0. +54.j 0. +72.j 0. +90.j 0.+108.j 0.+126.j\n",
      "  0.+144.j 0.+162.j]]\n"
     ]
    }
   ],
   "source": [
    "h = Hess.hessone(1)\n",
    "a = a + (1J)*a\n",
    "print(a)"
   ]
  },
  {
   "cell_type": "code",
   "execution_count": 9,
   "metadata": {},
   "outputs": [
    {
     "name": "stdout",
     "output_type": "stream",
     "text": [
      "[0. 0. 0. 0. 0. 0. 0. 0. 0. 0.]\n"
     ]
    },
    {
     "name": "stderr",
     "output_type": "stream",
     "text": [
      "<ipython-input-9-5201062c7039>:1: ComplexWarning: Casting complex values to real discards the imaginary part\n",
      "  x = h.myfunc(a)\n"
     ]
    }
   ],
   "source": [
    "x = h.myfunc(a)\n",
    "print(x) "
   ]
  },
  {
   "cell_type": "code",
   "execution_count": 10,
   "metadata": {},
   "outputs": [
    {
     "name": "stdout",
     "output_type": "stream",
     "text": [
      "[0. 0. 0. 0. 0. 0. 0. 0. 0. 0.]\n"
     ]
    },
    {
     "name": "stderr",
     "output_type": "stream",
     "text": [
      "<ipython-input-10-40424e4d3239>:1: ComplexWarning: Casting complex values to real discards the imaginary part\n",
      "  print(h.myfunc(a))\n"
     ]
    }
   ],
   "source": [
    "print(h.myfunc(a))"
   ]
  },
  {
   "cell_type": "code",
   "execution_count": null,
   "metadata": {},
   "outputs": [],
   "source": []
  }
 ],
 "metadata": {
  "kernelspec": {
   "display_name": "Python 3",
   "language": "python",
   "name": "python3"
  },
  "language_info": {
   "codemirror_mode": {
    "name": "ipython",
    "version": 3
   },
   "file_extension": ".py",
   "mimetype": "text/x-python",
   "name": "python",
   "nbconvert_exporter": "python",
   "pygments_lexer": "ipython3",
   "version": "3.8.5"
  }
 },
 "nbformat": 4,
 "nbformat_minor": 4
}
