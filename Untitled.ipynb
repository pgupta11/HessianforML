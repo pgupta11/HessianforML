{
 "cells": [
  {
   "cell_type": "code",
   "execution_count": 11,
   "metadata": {},
   "outputs": [],
   "source": [
    "import numpy as np\n",
    "import Hess\n",
    "import scipy.sparse as si\n",
    "import scipy.sparse.linalg as la"
   ]
  },
  {
   "cell_type": "code",
   "execution_count": 12,
   "metadata": {},
   "outputs": [
    {
     "name": "stdout",
     "output_type": "stream",
     "text": [
      "  (1, 1)\t1.0\n",
      "  (2, 1)\t2.0\n",
      "  (3, 1)\t3.0\n",
      "  (4, 1)\t4.0\n",
      "  (5, 1)\t5.0\n",
      "  (6, 1)\t6.0\n",
      "  (7, 1)\t7.0\n",
      "  (8, 1)\t8.0\n",
      "  (9, 1)\t9.0\n",
      "  (1, 2)\t2.0\n",
      "  (2, 2)\t4.0\n",
      "  (3, 2)\t6.0\n",
      "  (4, 2)\t8.0\n",
      "  (5, 2)\t10.0\n",
      "  (6, 2)\t12.0\n",
      "  (7, 2)\t14.0\n",
      "  (8, 2)\t16.0\n",
      "  (9, 2)\t18.0\n",
      "  (1, 3)\t3.0\n",
      "  (2, 3)\t6.0\n",
      "  (3, 3)\t9.0\n",
      "  (4, 3)\t12.0\n",
      "  (5, 3)\t15.0\n",
      "  (6, 3)\t18.0\n",
      "  (7, 3)\t21.0\n",
      "  :\t:\n",
      "  (3, 7)\t21.0\n",
      "  (4, 7)\t28.0\n",
      "  (5, 7)\t35.0\n",
      "  (6, 7)\t42.0\n",
      "  (7, 7)\t49.0\n",
      "  (8, 7)\t56.0\n",
      "  (9, 7)\t63.0\n",
      "  (1, 8)\t8.0\n",
      "  (2, 8)\t16.0\n",
      "  (3, 8)\t24.0\n",
      "  (4, 8)\t32.0\n",
      "  (5, 8)\t40.0\n",
      "  (6, 8)\t48.0\n",
      "  (7, 8)\t56.0\n",
      "  (8, 8)\t64.0\n",
      "  (9, 8)\t72.0\n",
      "  (1, 9)\t9.0\n",
      "  (2, 9)\t18.0\n",
      "  (3, 9)\t27.0\n",
      "  (4, 9)\t36.0\n",
      "  (5, 9)\t45.0\n",
      "  (6, 9)\t54.0\n",
      "  (7, 9)\t63.0\n",
      "  (8, 9)\t72.0\n",
      "  (9, 9)\t81.0\n",
      "(array([0.        , 0.00055402, 0.00110803, 0.00166205, 0.00221607,\n",
      "       0.00277008, 0.0033241 , 0.00387812, 0.00443213, 0.00498615]), 2, 1, 1.7013926184468011, 1.7013926184468011, 285.0, 0.9999999999999999, 1.1393045671283197e-14, 0.009352877017248825, array([0., 0., 0., 0., 0., 0., 0., 0., 0., 0.]))\n"
     ]
    }
   ],
   "source": [
    "a = np.zeros((10,10),dtype='float64')\n",
    "for i in range(10):\n",
    "    for j in range(10):\n",
    "        a[i,j] = i*j\n",
    "sparse_matrix = si.csc_matrix(a)\n",
    "print(sparse_matrix)\n",
    "b=np.ones(10)\n",
    "x = la.lsqr(a,b)\n",
    "print(x)\n"
   ]
  },
  {
   "cell_type": "code",
   "execution_count": 13,
   "metadata": {},
   "outputs": [
    {
     "name": "stdout",
     "output_type": "stream",
     "text": [
      "(10, 10)\n",
      "7\n",
      "<class 'numpy.float64'> (10, 10)\n",
      "[0.         0.01754386 0.00877193 0.00584795 0.00438596 0.00350877\n",
      " 0.00292398 0.00250627 0.00219298 0.00194932]\n"
     ]
    }
   ],
   "source": [
    "h = Hess.hessone(1)\n",
    "print(a.shape)\n",
    "b = h.add(3,4)\n",
    "print(b)\n",
    "print(type(a[0,0]),a.shape)\n",
    "x = h.myfunc(a)\n",
    "print(x) "
   ]
  },
  {
   "cell_type": "code",
   "execution_count": 3,
   "metadata": {},
   "outputs": [
    {
     "ename": "TypeError",
     "evalue": "add(): incompatible function arguments. The following argument types are supported:\n    1. (self: Hess.hessone, arg0: int, arg1: int) -> None\n\nInvoked with: 3, 4",
     "output_type": "error",
     "traceback": [
      "\u001b[0;31m---------------------------------------------------------------------------\u001b[0m",
      "\u001b[0;31mTypeError\u001b[0m                                 Traceback (most recent call last)",
      "\u001b[0;32m<ipython-input-3-90b7ac67c090>\u001b[0m in \u001b[0;36m<module>\u001b[0;34m\u001b[0m\n\u001b[1;32m      1\u001b[0m \u001b[0mh\u001b[0m \u001b[0;34m=\u001b[0m \u001b[0mHess\u001b[0m\u001b[0;34m.\u001b[0m\u001b[0mhessone\u001b[0m\u001b[0;34m\u001b[0m\u001b[0;34m\u001b[0m\u001b[0m\n\u001b[0;32m----> 2\u001b[0;31m \u001b[0mh\u001b[0m\u001b[0;34m.\u001b[0m\u001b[0madd\u001b[0m\u001b[0;34m(\u001b[0m\u001b[0;36m3\u001b[0m\u001b[0;34m,\u001b[0m\u001b[0;36m4\u001b[0m\u001b[0;34m)\u001b[0m\u001b[0;34m\u001b[0m\u001b[0;34m\u001b[0m\u001b[0m\n\u001b[0m",
      "\u001b[0;31mTypeError\u001b[0m: add(): incompatible function arguments. The following argument types are supported:\n    1. (self: Hess.hessone, arg0: int, arg1: int) -> None\n\nInvoked with: 3, 4"
     ]
    }
   ],
   "source": [
    "h = Hess.hessone\n",
    "h.add(3,4)"
   ]
  },
  {
   "cell_type": "code",
   "execution_count": 10,
   "metadata": {},
   "outputs": [
    {
     "name": "stdout",
     "output_type": "stream",
     "text": [
      "None\n"
     ]
    }
   ],
   "source": [
    "print(h.add(3,4))"
   ]
  },
  {
   "cell_type": "code",
   "execution_count": 7,
   "metadata": {},
   "outputs": [
    {
     "name": "stdout",
     "output_type": "stream",
     "text": [
      "None\n"
     ]
    }
   ],
   "source": [
    "print(h.myfunc(a))"
   ]
  },
  {
   "cell_type": "code",
   "execution_count": 14,
   "metadata": {},
   "outputs": [
    {
     "name": "stdout",
     "output_type": "stream",
     "text": [
      "[[ 0. +0.j  0. +0.j  0. +0.j  0. +0.j  0. +0.j  0. +0.j  0. +0.j  0. +0.j\n",
      "   0. +0.j  0. +0.j]\n",
      " [ 0. +0.j  1. +1.j  2. +2.j  3. +3.j  4. +4.j  5. +5.j  6. +6.j  7. +7.j\n",
      "   8. +8.j  9. +9.j]\n",
      " [ 0. +0.j  2. +2.j  4. +4.j  6. +6.j  8. +8.j 10.+10.j 12.+12.j 14.+14.j\n",
      "  16.+16.j 18.+18.j]\n",
      " [ 0. +0.j  3. +3.j  6. +6.j  9. +9.j 12.+12.j 15.+15.j 18.+18.j 21.+21.j\n",
      "  24.+24.j 27.+27.j]\n",
      " [ 0. +0.j  4. +4.j  8. +8.j 12.+12.j 16.+16.j 20.+20.j 24.+24.j 28.+28.j\n",
      "  32.+32.j 36.+36.j]\n",
      " [ 0. +0.j  5. +5.j 10.+10.j 15.+15.j 20.+20.j 25.+25.j 30.+30.j 35.+35.j\n",
      "  40.+40.j 45.+45.j]\n",
      " [ 0. +0.j  6. +6.j 12.+12.j 18.+18.j 24.+24.j 30.+30.j 36.+36.j 42.+42.j\n",
      "  48.+48.j 54.+54.j]\n",
      " [ 0. +0.j  7. +7.j 14.+14.j 21.+21.j 28.+28.j 35.+35.j 42.+42.j 49.+49.j\n",
      "  56.+56.j 63.+63.j]\n",
      " [ 0. +0.j  8. +8.j 16.+16.j 24.+24.j 32.+32.j 40.+40.j 48.+48.j 56.+56.j\n",
      "  64.+64.j 72.+72.j]\n",
      " [ 0. +0.j  9. +9.j 18.+18.j 27.+27.j 36.+36.j 45.+45.j 54.+54.j 63.+63.j\n",
      "  72.+72.j 81.+81.j]]\n"
     ]
    }
   ],
   "source": [
    "h = Hess.hessone(1)\n",
    "a = a + (1J)*a\n",
    "print(a)"
   ]
  },
  {
   "cell_type": "code",
   "execution_count": 15,
   "metadata": {},
   "outputs": [
    {
     "name": "stdout",
     "output_type": "stream",
     "text": [
      "[0.         0.01754386 0.00877193 0.00584795 0.00438596 0.00350877\n",
      " 0.00292398 0.00250627 0.00219298 0.00194932]\n"
     ]
    },
    {
     "name": "stderr",
     "output_type": "stream",
     "text": [
      "<ipython-input-15-5201062c7039>:1: ComplexWarning: Casting complex values to real discards the imaginary part\n",
      "  x = h.myfunc(a)\n"
     ]
    }
   ],
   "source": [
    "x = h.myfunc(a)\n",
    "print(x) "
   ]
  },
  {
   "cell_type": "code",
   "execution_count": 16,
   "metadata": {},
   "outputs": [
    {
     "name": "stdout",
     "output_type": "stream",
     "text": [
      "[0.         0.01754386 0.00877193 0.00584795 0.00438596 0.00350877\n",
      " 0.00292398 0.00250627 0.00219298 0.00194932]\n"
     ]
    },
    {
     "name": "stderr",
     "output_type": "stream",
     "text": [
      "<ipython-input-16-40424e4d3239>:1: ComplexWarning: Casting complex values to real discards the imaginary part\n",
      "  print(h.myfunc(a))\n"
     ]
    }
   ],
   "source": [
    "print(h.myfunc(a))"
   ]
  },
  {
   "cell_type": "code",
   "execution_count": 19,
   "metadata": {},
   "outputs": [
    {
     "ename": "FileNotFoundError",
     "evalue": "[Errno 2] No such file or directory: './td_dens_re+im_rt-tdexx_delta_s0_heh+_6-311G.npz'",
     "output_type": "error",
     "traceback": [
      "\u001b[0;31m---------------------------------------------------------------------------\u001b[0m",
      "\u001b[0;31mFileNotFoundError\u001b[0m                         Traceback (most recent call last)",
      "\u001b[0;32m<ipython-input-19-7b86e7a7abbe>\u001b[0m in \u001b[0;36m<module>\u001b[0;34m\u001b[0m\n\u001b[1;32m      2\u001b[0m \u001b[0mmol\u001b[0m \u001b[0;34m=\u001b[0m \u001b[0;34m'heh+'\u001b[0m\u001b[0;34m\u001b[0m\u001b[0;34m\u001b[0m\u001b[0m\n\u001b[1;32m      3\u001b[0m \u001b[0msavepath\u001b[0m \u001b[0;34m=\u001b[0m \u001b[0;34m'./'\u001b[0m\u001b[0;34m+\u001b[0m\u001b[0mmol\u001b[0m\u001b[0;34m+\u001b[0m\u001b[0;34m'LINEAR/'\u001b[0m\u001b[0;34m\u001b[0m\u001b[0;34m\u001b[0m\u001b[0m\n\u001b[0;32m----> 4\u001b[0;31m \u001b[0mrawden\u001b[0m \u001b[0;34m=\u001b[0m \u001b[0monp\u001b[0m\u001b[0;34m.\u001b[0m\u001b[0mload\u001b[0m\u001b[0;34m(\u001b[0m\u001b[0;34m'./td_dens_re+im_rt-tdexx_delta_s0_'\u001b[0m\u001b[0;34m+\u001b[0m\u001b[0mmol\u001b[0m\u001b[0;34m+\u001b[0m\u001b[0;34m'_6-311G.npz'\u001b[0m\u001b[0;34m,\u001b[0m\u001b[0mallow_pickle\u001b[0m\u001b[0;34m=\u001b[0m\u001b[0;32mTrue\u001b[0m\u001b[0;34m)\u001b[0m\u001b[0;34m\u001b[0m\u001b[0;34m\u001b[0m\u001b[0m\n\u001b[0m\u001b[1;32m      5\u001b[0m \u001b[0;34m\u001b[0m\u001b[0m\n\u001b[1;32m      6\u001b[0m \u001b[0;32mif\u001b[0m \u001b[0mmol\u001b[0m\u001b[0;34m==\u001b[0m\u001b[0;34m'heh+'\u001b[0m \u001b[0;32mor\u001b[0m \u001b[0mmol\u001b[0m\u001b[0;34m==\u001b[0m\u001b[0;34m'c2h4'\u001b[0m\u001b[0;34m:\u001b[0m\u001b[0;34m\u001b[0m\u001b[0;34m\u001b[0m\u001b[0m\n",
      "\u001b[0;32m/usr/local/lib/python3.8/dist-packages/numpy/lib/npyio.py\u001b[0m in \u001b[0;36mload\u001b[0;34m(file, mmap_mode, allow_pickle, fix_imports, encoding)\u001b[0m\n\u001b[1;32m    414\u001b[0m             \u001b[0mown_fid\u001b[0m \u001b[0;34m=\u001b[0m \u001b[0;32mFalse\u001b[0m\u001b[0;34m\u001b[0m\u001b[0;34m\u001b[0m\u001b[0m\n\u001b[1;32m    415\u001b[0m         \u001b[0;32melse\u001b[0m\u001b[0;34m:\u001b[0m\u001b[0;34m\u001b[0m\u001b[0;34m\u001b[0m\u001b[0m\n\u001b[0;32m--> 416\u001b[0;31m             \u001b[0mfid\u001b[0m \u001b[0;34m=\u001b[0m \u001b[0mstack\u001b[0m\u001b[0;34m.\u001b[0m\u001b[0menter_context\u001b[0m\u001b[0;34m(\u001b[0m\u001b[0mopen\u001b[0m\u001b[0;34m(\u001b[0m\u001b[0mos_fspath\u001b[0m\u001b[0;34m(\u001b[0m\u001b[0mfile\u001b[0m\u001b[0;34m)\u001b[0m\u001b[0;34m,\u001b[0m \u001b[0;34m\"rb\"\u001b[0m\u001b[0;34m)\u001b[0m\u001b[0;34m)\u001b[0m\u001b[0;34m\u001b[0m\u001b[0;34m\u001b[0m\u001b[0m\n\u001b[0m\u001b[1;32m    417\u001b[0m             \u001b[0mown_fid\u001b[0m \u001b[0;34m=\u001b[0m \u001b[0;32mTrue\u001b[0m\u001b[0;34m\u001b[0m\u001b[0;34m\u001b[0m\u001b[0m\n\u001b[1;32m    418\u001b[0m \u001b[0;34m\u001b[0m\u001b[0m\n",
      "\u001b[0;31mFileNotFoundError\u001b[0m: [Errno 2] No such file or directory: './td_dens_re+im_rt-tdexx_delta_s0_heh+_6-311G.npz'"
     ]
    }
   ],
   "source": [
    "import numpy as onp\n",
    "mol = 'heh+'\n",
    "savepath = './'+mol+'LINEAR/'\n",
    "rawden = onp.load('./td_dens_re+im_rt-tdexx_delta_s0_'+mol+'_6-311G.npz',allow_pickle=True)\n",
    "\n",
    "if mol=='heh+' or mol=='c2h4':\n",
    "    overlap = onp.load('./ke+en+overlap+ee_twoe+dip_hf_delta_s0_'+mol+'_6-311G.npz',allow_pickle=True)\n",
    "else:\n",
    "    overlap = onp.load('./ke+en+overlap+ee_twoe+dip_hf_delta_s0_'+mol+'_6-311G.npz',allow_pickle=True)\n",
    "# putting things into better variables\n",
    "kinmat = overlap['ke_data']\n",
    "enmat = overlap['en_data']\n",
    "eeten = overlap['ee_twoe_data']\n",
    "\n",
    "# transform to MO using canonical orthogonalization\n",
    "s = overlap['overlap_data']\n",
    "realpt = rawden['td_dens_re_data']\n",
    "imagpt = rawden['td_dens_im_data']\n",
    "den = realpt + 1j*imagpt\n",
    "# delete duplicated entries in time series\n",
    "denAOnorms = onp.linalg.norm(np.diff(den,axis=0),axis=(1,2))\n",
    "plt.plot(denAOnorms[1:1000])\n",
    "plt.savefig('denAOnorms.pdf')\n",
    "plt.close()\n",
    "print(den.shape)\n",
    "drc = den.shape[1]\n",
    "denflat = den.reshape((-1,drc**2))\n",
    "print (denflat.shape)\n",
    "dennodupflat = onp.array([onp.delete(denflat[:,i], onp.s_[101::100]) for i in range(drc**2)]).T\n",
    "denAOnodup = dennodupflat.reshape((-1,drc,drc))\n",
    "print('shape of AO densities after removing duplicates = ', denAOnodup.shape)\n",
    "denAOnodupnorms = onp.linalg.norm(np.diff(denAOnodup,axis=0),axis=(1,2))\n",
    "plt.plot(denAOnodupnorms[1:1000])\n",
    "#plt.savefig('denAOnodupnorms.pdf')\n",
    "#plt.close()\n",
    "plt.show()\n",
    "sevals, sevecs = onp.linalg.eigh(s)\n",
    "\n",
    "print('sevecs.T @ sevecs = ')\n",
    "print(sevecs.T @ sevecs)\n",
    "print('')\n",
    "print('sevecs.conj() - sevecs = ')\n",
    "print(sevecs.conj() - sevecs)\n",
    "print('')\n",
    "denMO = onp.zeros(denAOnodup.shape,dtype=np.complex128)\n",
    "denMOflat = denMO.reshape((-1,drc**2))\n",
    "npts = denAOnodup.shape[0]\n",
    "idempot = onp.zeros(npts)\n",
    "traces = onp.zeros(npts)\n",
    "hermit = onp.zeros(npts)\n",
    "for i in range(1,npts):\n",
    "    denMO[i,:,:] = onp.diag(sevals**(0.5)) @ sevecs.T @ denAOnodup[i,:,:] @ sevecs @ onp.diag(sevals**(0.5))\n",
    "    \n",
    "    # check if MO density is idempotent\n",
    "    idempot[i] = onp.linalg.norm(denMO[i,:,:] @ denMO[i,:,:] - denMO[i,:,:])\n",
    "    \n",
    "    # compute trace of MO density\n",
    "    traces[i] = onp.real(onp.trace(denMO[i,:,:]))\n",
    "    \n",
    "    # to check if MO density is hermitian\n",
    "    hermit[i] = onp.linalg.norm(denMO[i,:,:] - denMO[i,:,:].conj().T)\n",
    "\n",
    "# this should be close to 0 if denMO is Hermitian\n",
    "print('|| P_{MO} - P_{MO}.conj().T || = ', onp.mean(hermit))\n",
    "print('')\n",
    "\n",
    "# this should be close to 1, half the number of electrons in the system\n",
    "print('mean(trace(P_{MO})) = ', onp.mean(traces))\n",
    "print('')\n",
    "\n",
    "# this should be close to 0 if denMO is idempotent\n",
    "print('|| P_{MO} . P_{MO} - P_{MO} || = ', onp.mean(idempot))\n",
    "\n",
    "denMOnorms = onp.linalg.norm(np.diff(denMO,axis=0),axis=(1,2))\n",
    "plt.plot(denMOnorms[1:1000])\n",
    "plt.show()\n",
    "#plt.savefig('denMOnorms.pdf')\n",
    "#plt.close()\n",
    "realnzs = []\n",
    "imagnzs = []\n",
    "\n",
    "for j in range(realpt.shape[1]): # for the diagonal and off diagonal go through the real part and add to list non zero \n",
    "    for i in range(j+1):\n",
    "        realnorm = onp.linalg.norm(onp.real(denMO[:,i,j]))\n",
    "        #print(\"|| Re[den[\"+str(i)+\",\"+str(j)+\"]] || = \" + str(realnorm))\n",
    "        if not onp.isclose(realnorm,0):\n",
    "            realnzs.append((i,j))\n",
    "\n",
    "        if i < j:\n",
    "            imagnorm = onp.linalg.norm(onp.imag(denMO[:,i,j]))\n",
    "            #print(\"|| Im[den[\"+str(i)+\",\"+str(j)+\"]] || = \" + str(imagnorm))\n",
    "            if not onp.isclose(imagnorm,0):\n",
    "                imagnzs.append((i,j))\n",
    "print(realnzs)\n",
    "# realnzs is a list of tuples, considered as a zipped list: unzip it to two lists \n",
    "rnzl = [list(t) for t in zip(*realnzs)] #list of two lists of i's and j's from the tuple list\n",
    "print(rnzl[0])\n",
    "inzl = [list(t) for t in zip(*imagnzs)]\n",
    "print('Shape of denMO on real non-zero degrees of freedom:')\n",
    "print(onp.real(denMO)[:,rnzl[0], rnzl[1]].shape)\n",
    "print('Shape of denMO on imag non-zero degrees of freedom:')\n",
    "print(onp.imag(denMO)[:,inzl[0], inzl[1]].shape)\n",
    "# build two dictionaries that help us find the absolute column number given human-readable (i,j) indices\n",
    "# for both the real and imaginary non-zero density DOFs\n",
    "nzreals = {}\n",
    "cnt = 0\n",
    "for i in realnzs:\n",
    "    print(i)\n",
    "    nzreals[i] = cnt\n",
    "    cnt += 1\n",
    "\n",
    "nzimags = {}\n",
    "for i in imagnzs:\n",
    "    nzimags[i] = cnt\n",
    "    cnt += 1\n",
    "\n",
    "print('nzreals:')\n",
    "print(nzreals)\n",
    "print('nzimags:')\n",
    "print(nzimags)\n",
    "ndof = cnt\n",
    "print('ndof: ', ndof)\n",
    "\n",
    "hamreals = nzreals.copy()\n",
    "hamimags = nzimags.copy()\n",
    "\n",
    "print('hamreals:')\n",
    "print(hamreals)\n",
    "print('hamimags:')\n",
    "print(hamimags)\n",
    "print('hamdof')\n",
    "print(hamdof)\n"
   ]
  },
  {
   "cell_type": "code",
   "execution_count": null,
   "metadata": {},
   "outputs": [],
   "source": []
  }
 ],
 "metadata": {
  "kernelspec": {
   "display_name": "Python 3",
   "language": "python",
   "name": "python3"
  },
  "language_info": {
   "codemirror_mode": {
    "name": "ipython",
    "version": 3
   },
   "file_extension": ".py",
   "mimetype": "text/x-python",
   "name": "python",
   "nbconvert_exporter": "python",
   "pygments_lexer": "ipython3",
   "version": "3.8.5"
  }
 },
 "nbformat": 4,
 "nbformat_minor": 4
}
