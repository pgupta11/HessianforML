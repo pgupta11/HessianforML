{
 "cells": [
  {
   "cell_type": "code",
   "execution_count": 1,
   "metadata": {},
   "outputs": [],
   "source": [
    "import numpy as np\n",
    "import Hess\n",
    "import scipy.linalg as si"
   ]
  },
  {
   "cell_type": "code",
   "execution_count": 2,
   "metadata": {},
   "outputs": [
    {
     "name": "stdout",
     "output_type": "stream",
     "text": [
      "[0.         0.00055402 0.00110803 0.00166205 0.00221607 0.00277008\n",
      " 0.0033241  0.00387812 0.00443213 0.00498615]\n",
      "[[ 0.  0.  0.  0.  0.  0.  0.  0.  0.  0.]\n",
      " [ 0.  1.  2.  3.  4.  5.  6.  7.  8.  9.]\n",
      " [ 0.  2.  4.  6.  8. 10. 12. 14. 16. 18.]\n",
      " [ 0.  3.  6.  9. 12. 15. 18. 21. 24. 27.]\n",
      " [ 0.  4.  8. 12. 16. 20. 24. 28. 32. 36.]\n",
      " [ 0.  5. 10. 15. 20. 25. 30. 35. 40. 45.]\n",
      " [ 0.  6. 12. 18. 24. 30. 36. 42. 48. 54.]\n",
      " [ 0.  7. 14. 21. 28. 35. 42. 49. 56. 63.]\n",
      " [ 0.  8. 16. 24. 32. 40. 48. 56. 64. 72.]\n",
      " [ 0.  9. 18. 27. 36. 45. 54. 63. 72. 81.]]\n"
     ]
    }
   ],
   "source": [
    "a = np.zeros((10,10))\n",
    "for i in range(10):\n",
    "    for j in range(10):\n",
    "        a[i,j] = i*j\n",
    "b=np.ones(10)\n",
    "x,_,_,_ = si.lstsq(a,b)\n",
    "print(x)\n",
    "print(a)"
   ]
  },
  {
   "cell_type": "code",
   "execution_count": 3,
   "metadata": {},
   "outputs": [
    {
     "name": "stdout",
     "output_type": "stream",
     "text": [
      "(10, 10)\n"
     ]
    },
    {
     "ename": "TypeError",
     "evalue": "myfunc(): incompatible function arguments. The following argument types are supported:\n    1. (self: Hess.hessone, arg0: numpy.ndarray[numpy.float64[m, n], flags.f_contiguous]) -> None\n\nInvoked with: array([[ 0.,  0.,  0.,  0.,  0.,  0.,  0.,  0.,  0.,  0.],\n       [ 0.,  1.,  2.,  3.,  4.,  5.,  6.,  7.,  8.,  9.],\n       [ 0.,  2.,  4.,  6.,  8., 10., 12., 14., 16., 18.],\n       [ 0.,  3.,  6.,  9., 12., 15., 18., 21., 24., 27.],\n       [ 0.,  4.,  8., 12., 16., 20., 24., 28., 32., 36.],\n       [ 0.,  5., 10., 15., 20., 25., 30., 35., 40., 45.],\n       [ 0.,  6., 12., 18., 24., 30., 36., 42., 48., 54.],\n       [ 0.,  7., 14., 21., 28., 35., 42., 49., 56., 63.],\n       [ 0.,  8., 16., 24., 32., 40., 48., 56., 64., 72.],\n       [ 0.,  9., 18., 27., 36., 45., 54., 63., 72., 81.]])",
     "output_type": "error",
     "traceback": [
      "\u001b[0;31m---------------------------------------------------------------------------\u001b[0m",
      "\u001b[0;31mTypeError\u001b[0m                                 Traceback (most recent call last)",
      "\u001b[0;32m<ipython-input-3-2eda7efd331e>\u001b[0m in \u001b[0;36m<module>\u001b[0;34m\u001b[0m\n\u001b[1;32m      2\u001b[0m \u001b[0mprint\u001b[0m\u001b[0;34m(\u001b[0m\u001b[0ma\u001b[0m\u001b[0;34m.\u001b[0m\u001b[0mshape\u001b[0m\u001b[0;34m)\u001b[0m\u001b[0;34m\u001b[0m\u001b[0;34m\u001b[0m\u001b[0m\n\u001b[1;32m      3\u001b[0m \u001b[0mb\u001b[0m \u001b[0;34m=\u001b[0m \u001b[0mHess\u001b[0m\u001b[0;34m.\u001b[0m\u001b[0madd\u001b[0m\u001b[0;34m(\u001b[0m\u001b[0;36m3\u001b[0m\u001b[0;34m,\u001b[0m\u001b[0;36m4\u001b[0m\u001b[0;34m)\u001b[0m\u001b[0;34m\u001b[0m\u001b[0;34m\u001b[0m\u001b[0m\n\u001b[0;32m----> 4\u001b[0;31m \u001b[0mprint\u001b[0m\u001b[0;34m(\u001b[0m\u001b[0mh\u001b[0m\u001b[0;34m.\u001b[0m\u001b[0mmyfunc\u001b[0m\u001b[0;34m(\u001b[0m\u001b[0ma\u001b[0m\u001b[0;34m)\u001b[0m\u001b[0;34m)\u001b[0m\u001b[0;34m\u001b[0m\u001b[0;34m\u001b[0m\u001b[0m\n\u001b[0m",
      "\u001b[0;31mTypeError\u001b[0m: myfunc(): incompatible function arguments. The following argument types are supported:\n    1. (self: Hess.hessone, arg0: numpy.ndarray[numpy.float64[m, n], flags.f_contiguous]) -> None\n\nInvoked with: array([[ 0.,  0.,  0.,  0.,  0.,  0.,  0.,  0.,  0.,  0.],\n       [ 0.,  1.,  2.,  3.,  4.,  5.,  6.,  7.,  8.,  9.],\n       [ 0.,  2.,  4.,  6.,  8., 10., 12., 14., 16., 18.],\n       [ 0.,  3.,  6.,  9., 12., 15., 18., 21., 24., 27.],\n       [ 0.,  4.,  8., 12., 16., 20., 24., 28., 32., 36.],\n       [ 0.,  5., 10., 15., 20., 25., 30., 35., 40., 45.],\n       [ 0.,  6., 12., 18., 24., 30., 36., 42., 48., 54.],\n       [ 0.,  7., 14., 21., 28., 35., 42., 49., 56., 63.],\n       [ 0.,  8., 16., 24., 32., 40., 48., 56., 64., 72.],\n       [ 0.,  9., 18., 27., 36., 45., 54., 63., 72., 81.]])"
     ]
    }
   ],
   "source": [
    "h = Hess.hessone\n",
    "print(a.shape)\n",
    "b = Hess.add(3,4)\n",
    "print(h.myfunc(a)) "
   ]
  },
  {
   "cell_type": "code",
   "execution_count": null,
   "metadata": {},
   "outputs": [],
   "source": []
  }
 ],
 "metadata": {
  "kernelspec": {
   "display_name": "Python 3",
   "language": "python",
   "name": "python3"
  },
  "language_info": {
   "codemirror_mode": {
    "name": "ipython",
    "version": 3
   },
   "file_extension": ".py",
   "mimetype": "text/x-python",
   "name": "python",
   "nbconvert_exporter": "python",
   "pygments_lexer": "ipython3",
   "version": "3.8.5"
  }
 },
 "nbformat": 4,
 "nbformat_minor": 4
}
